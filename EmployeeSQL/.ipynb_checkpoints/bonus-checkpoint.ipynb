{
 "cells": [],
 "metadata": {
  "environment": {
   "name": "common-cpu.m56",
   "type": "gcloud",
   "uri": "gcr.io/deeplearning-platform-release/base-cpu:m56"
  }
 },
 "nbformat": 4,
 "nbformat_minor": 4
}

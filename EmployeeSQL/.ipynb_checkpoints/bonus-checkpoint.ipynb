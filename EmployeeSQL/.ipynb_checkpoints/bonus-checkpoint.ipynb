{
 "cells": [
  {
   "cell_type": "code",
   "execution_count": 1,
   "metadata": {},
   "outputs": [],
   "source": [
    "# Import the necessary libraries\n",
    "import pandas as pd\n",
    "import numpy as np\n",
    "import matplotlib.pyplot as plt\n",
    "import sqlalchemy"
   ]
  },
  {
   "cell_type": "code",
   "execution_count": 2,
   "metadata": {},
   "outputs": [],
   "source": [
    "# Import Username, Passwrd and Database Name \n",
    "from config import pg_ipaddress, pg_port, pg_username, pg_password, pg_dbname"
   ]
  },
  {
   "cell_type": "code",
   "execution_count": 3,
   "metadata": {},
   "outputs": [],
   "source": [
    "# Setup connection with Postgres\n",
    "from sqlalchemy import create_engine\n",
    "postgres_str = ('postgresql://{username}:{password}@{ipaddress}:{port}/{dbname}'\n",
    "                .format(username=pg_username,\n",
    "                       password=pg_password,\n",
    "                       ipaddress=pg_ipaddress,\n",
    "                       port=pg_port,\n",
    "                       dbname=pg_dbname))\n",
    "\n",
    "connection = create_engine(postgres_str)"
   ]
  },
  {
   "cell_type": "code",
   "execution_count": null,
   "metadata": {},
   "outputs": [],
   "source": [
    "employees_df = pd.read_sql(\"select * from employees\", connection)\n",
    "employees_df.fillna(\"NaN\")"
   ]
  },
  {
   "cell_type": "code",
   "execution_count": null,
   "metadata": {},
   "outputs": [],
   "source": [
    "# Create a histogram to visualize the most common salary ranges for employees\n",
    "salaries_df = pd.read_sql(\"select * from salaries\", connection)\n",
    "salaries_df.fillna(\"NaN\")"
   ]
  },
  {
   "cell_type": "code",
   "execution_count": null,
   "metadata": {},
   "outputs": [],
   "source": [
    "salaries_df[\"salary\"].min()"
   ]
  },
  {
   "cell_type": "code",
   "execution_count": null,
   "metadata": {},
   "outputs": [],
   "source": [
    "salaries_df[\"salary\"].max()"
   ]
  },
  {
   "cell_type": "code",
   "execution_count": null,
   "metadata": {},
   "outputs": [],
   "source": [
    "plt.figure(figsize=(10,7))\n",
    "bins = [40000, 50000, 60000, 70000, 80000, 90000, 100000, 110000, 120000, 130000]\n",
    "n, bins, patches = plt.hist(x=salaries_df[\"salary\"], bins = bins, color = 'g', alpha=0.7, rwidth=0.9)\n",
    "plt.grid(axis='y', alpha=0.7)\n",
    "plt.axvline(salaries_df['salary'].median(), color='b', linestyle='dashed', linewidth=2, label=\"Median Salary\")\n",
    "plt.xlim(40000, 130000)\n",
    "plt.ylim(0, 180000)\n",
    "plt.xlabel(\"Salary($)\")\n",
    "plt.ylabel(\"Number of Employees\")\n",
    "plt.legend() \n",
    "plt.title(\"Most Common Salary Ranges for Pewlett Hackard Employees\")\n",
    "plt.savefig(\"Common_Salary_Ranges.png\")"
   ]
  },
  {
   "cell_type": "code",
   "execution_count": null,
   "metadata": {},
   "outputs": [],
   "source": [
    "# Create bar chart of average salary by title\n",
    "titles_df = pd.read_sql(\"select * from titles\", connection)\n",
    "\n",
    "# Rename title_id to emp_title_id\n",
    "titles_df = titles_df.rename(columns = {\"title_id\": \"emp_title_id\"})\n",
    "\n",
    "titles_df.fillna(\"NaN\")"
   ]
  },
  {
   "cell_type": "code",
   "execution_count": null,
   "metadata": {},
   "outputs": [],
   "source": [
    "emp_salary_df = pd.merge(employees_df, salaries_df, on = \"emp_no\")\n",
    "emp_salary_df"
   ]
  },
  {
   "cell_type": "code",
   "execution_count": null,
   "metadata": {},
   "outputs": [],
   "source": [
    "avg_salary_by_title = emp_salary_df.groupby([\"emp_title_id\"])[\"salary\"].mean()\n",
    "avg_salary_by_title"
   ]
  },
  {
   "cell_type": "code",
   "execution_count": null,
   "metadata": {},
   "outputs": [],
   "source": [
    "salary_by_title_df = pd.merge(titles_df, avg_salary_by_title, on = \"emp_title_id\")\n",
    "salary_by_title_df"
   ]
  },
  {
   "cell_type": "code",
   "execution_count": null,
   "metadata": {},
   "outputs": [],
   "source": [
    "plt.figure(figsize=(10,7))\n",
    "x_axis = np.arange(len(salary_by_title_df))\n",
    "ticks = [value for value in x_axis]\n",
    "salary_by_title_df = salary_by_title_df.sort_values(\"salary\", ascending = False)\n",
    "chart=plt.bar(x_axis, salary_by_title_df[\"salary\"], color = 'b', alpha = 0.7, align=\"center\")\n",
    "plt.grid(axis='y', alpha=0.7)\n",
    "plt.xticks(ticks, salary_by_title_df[\"title\"], rotation=\"45\", horizontalalignment = \"right\")\n",
    "plt.xlim(-0.7, len(x_axis))\n",
    "plt.ylim(0, 70000)\n",
    "plt.title('Average Salary by Title for Pewlett Hackard Employees', fontsize = 14)\n",
    "plt.xlabel('Title')\n",
    "plt.ylabel('Average Salary($)')\n",
    "for i in chart:\n",
    "    yvalue = i.get_height()\n",
    "    plt.text(i.get_x(), yvalue + 500, \"${:,.2f}K\".format(yvalue/1000))\n",
    "plt.savefig('Average_Salary_by_Title')\n",
    "plt.show()"
   ]
  },
  {
   "cell_type": "code",
   "execution_count": null,
   "metadata": {},
   "outputs": [],
   "source": []
  }
 ],
 "metadata": {
  "environment": {
   "name": "common-cpu.m56",
   "type": "gcloud",
   "uri": "gcr.io/deeplearning-platform-release/base-cpu:m56"
  },
  "kernelspec": {
   "display_name": "Python 3",
   "language": "python",
   "name": "python3"
  },
  "language_info": {
   "codemirror_mode": {
    "name": "ipython",
    "version": 3
   },
   "file_extension": ".py",
   "mimetype": "text/x-python",
   "name": "python",
   "nbconvert_exporter": "python",
   "pygments_lexer": "ipython3",
   "version": "3.7.8"
  }
 },
 "nbformat": 4,
 "nbformat_minor": 4
}
